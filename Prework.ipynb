{
 "cells": [
  {
   "cell_type": "markdown",
   "metadata": {},
   "source": [
    "Operador de pertenencia \"in\""
   ]
  },
  {
   "cell_type": "code",
   "execution_count": 1,
   "metadata": {},
   "outputs": [
    {
     "name": "stdout",
     "output_type": "stream",
     "text": [
      "True\n",
      "False\n",
      "True\n",
      "True\n"
     ]
    }
   ],
   "source": [
    "#in\n",
    "tupla = (1,\"2\",\"Hola\",2+3j)\n",
    "tupla\n",
    "print(\"2\" in tupla) #True\n",
    "print(2+2j in tupla) #False\n",
    "\n",
    "#not in\n",
    "print(\"3\" not in tupla) #True\n",
    "\n",
    "chars=(\"Cristian is a crack in Python\")\n",
    "print(\"Cristian\" in chars) #True\n"
   ]
  },
  {
   "cell_type": "markdown",
   "metadata": {},
   "source": [
    "Input data + if"
   ]
  },
  {
   "cell_type": "code",
   "execution_count": 2,
   "metadata": {},
   "outputs": [
    {
     "name": "stdout",
     "output_type": "stream",
     "text": [
      "4 6 9\n",
      "Value 1 is the minimum\n"
     ]
    }
   ],
   "source": [
    "data1=input(\"Write first value: \")\n",
    "data2=input(\"Write second value: \")\n",
    "data3=input(\"Write third value: \")\n",
    "print(data1,data2,data3)\n",
    "\n",
    "if data1<data2 and data1<data3:\n",
    "    print(\"Value 1 is the minimum\")\n",
    "else:\n",
    "    print(\"Value 1 is not the minimum\")"
   ]
  },
  {
   "cell_type": "markdown",
   "metadata": {},
   "source": [
    "for"
   ]
  },
  {
   "cell_type": "code",
   "execution_count": 3,
   "metadata": {},
   "outputs": [
    {
     "name": "stdout",
     "output_type": "stream",
     "text": [
      "1\n",
      "2\n",
      "Hola\n",
      "(2+3j)\n",
      "['4', '8', '7', '8', '4', '3', '7', '5', '6', '7', '3']\n",
      "['u']\n",
      "['d', 'j', 'h', 'g', 'k', 'd', 's', 'j', 'g', 's', 'j', 'g', 'k', 'v', 'h', 's', 'j', 'k', 'l', 'd', 'g', 'h', 'j', 'g', 'h']\n"
     ]
    }
   ],
   "source": [
    "for value in tupla:\n",
    "    print(value)\n",
    "\n",
    "cadena=\"djhgkdsjgs48784jgkvhsjkldgh375673ujgh\"\n",
    "numeros=[]\n",
    "vocales=[]\n",
    "consonantes=[]\n",
    "\n",
    "for value in cadena:\n",
    "    if value in \"0123456789\":\n",
    "        numeros.append(value)\n",
    "    elif value in \"aeiou\":\n",
    "        vocales.append(value)\n",
    "    else:\n",
    "        consonantes.append(value)\n",
    "\n",
    "print(numeros)\n",
    "print(vocales)\n",
    "print(consonantes)\n"
   ]
  },
  {
   "cell_type": "markdown",
   "metadata": {},
   "source": [
    "WHILE"
   ]
  },
  {
   "cell_type": "code",
   "execution_count": 4,
   "metadata": {},
   "outputs": [
    {
     "name": "stdout",
     "output_type": "stream",
     "text": [
      "0\n",
      "1\n",
      "2\n",
      "3\n",
      "4\n",
      "5\n",
      "6\n",
      "7\n",
      "8\n",
      "9\n"
     ]
    }
   ],
   "source": [
    "a=0\n",
    "while a<10:\n",
    "    print(a)\n",
    "    a=a+1"
   ]
  },
  {
   "cell_type": "markdown",
   "metadata": {},
   "source": [
    "Functions"
   ]
  },
  {
   "cell_type": "code",
   "execution_count": 5,
   "metadata": {},
   "outputs": [
    {
     "name": "stdout",
     "output_type": "stream",
     "text": [
      "14\n",
      "5\n"
     ]
    }
   ],
   "source": [
    "def suma():\n",
    "    a=input(\"Insert first value: \")\n",
    "    b=input(\"Insert second value: \")\n",
    "    suma = int(a)+int(b)\n",
    "    print(suma)\n",
    "suma()\n",
    "\n",
    "def resta(a,b):\n",
    "    resta=a-b\n",
    "    print(resta)\n",
    "\n",
    "resta(6,1)"
   ]
  },
  {
   "cell_type": "code",
   "execution_count": 6,
   "metadata": {},
   "outputs": [
    {
     "name": "stdout",
     "output_type": "stream",
     "text": [
      "You have called f1.\n"
     ]
    },
    {
     "data": {
      "text/plain": [
       "8"
      ]
     },
     "execution_count": 6,
     "metadata": {},
     "output_type": "execute_result"
    }
   ],
   "source": [
    "def f1():\n",
    "    print(\"You have called f1.\")\n",
    "\n",
    "def f2(a,b):\n",
    "    c=int(a)+int(b)\n",
    "    return c\n",
    "\n",
    "f1()\n",
    "f2(5,3)"
   ]
  },
  {
   "cell_type": "markdown",
   "metadata": {},
   "source": [
    "Import"
   ]
  },
  {
   "cell_type": "code",
   "execution_count": 7,
   "metadata": {},
   "outputs": [],
   "source": [
    "#If we want to call the function from a .py file in this folder:\n",
    "#from namefile import *\n",
    "#or\n",
    "#import namefile as F\n",
    "#and then:\n",
    "#F.f1 and/or F.f2(a,b)"
   ]
  },
  {
   "cell_type": "markdown",
   "metadata": {},
   "source": [
    "Tables"
   ]
  },
  {
   "cell_type": "code",
   "execution_count": 8,
   "metadata": {},
   "outputs": [
    {
     "name": "stdout",
     "output_type": "stream",
     "text": [
      "   1    1     1\n",
      "   2    4     8\n",
      "   3    9    27\n",
      "   4   16    64\n",
      "   5   25   125\n",
      "   6   36   216\n",
      "   7   49   343\n",
      "   8   64   512\n",
      "   9   81   729\n",
      "  10  100  1000\n",
      "  11  121  1331\n",
      "  12  144  1728\n",
      "  13  169  2197\n",
      "  14  196  2744\n"
     ]
    }
   ],
   "source": [
    "for x in range (1,15):\n",
    "    print ('{0:4d}{1:5d}{2:6d}'.format(x,x*x,x*x*x))\n"
   ]
  }
 ],
 "metadata": {
  "kernelspec": {
   "display_name": "Python 3",
   "language": "python",
   "name": "python3"
  },
  "language_info": {
   "codemirror_mode": {
    "name": "ipython",
    "version": 3
   },
   "file_extension": ".py",
   "mimetype": "text/x-python",
   "name": "python",
   "nbconvert_exporter": "python",
   "pygments_lexer": "ipython3",
   "version": "3.11.5"
  }
 },
 "nbformat": 4,
 "nbformat_minor": 2
}
