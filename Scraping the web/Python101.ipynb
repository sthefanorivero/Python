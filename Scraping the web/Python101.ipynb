{
 "cells": [
  {
   "cell_type": "markdown",
   "metadata": {},
   "source": [
    "Basic types"
   ]
  },
  {
   "cell_type": "code",
   "execution_count": 2,
   "metadata": {},
   "outputs": [
    {
     "data": {
      "text/plain": [
       "float"
      ]
     },
     "execution_count": 2,
     "metadata": {},
     "output_type": "execute_result"
    }
   ],
   "source": [
    "type(\"Hello\") # => class 'str'\n",
    "# Anything inside the double or single quotes is a string\n",
    "\n",
    "# Numbers can be either integers (whole numbers) or floats (numbers with a fractional part)\n",
    "type(5) # => <class 'int'>\n",
    "type(3.5) # => <class 'float'>\n",
    "\n",
    "#`True` and `False` are special values of type `bool` that are used for logical operations."
   ]
  },
  {
   "cell_type": "markdown",
   "metadata": {},
   "source": [
    "Variables, objects and methods"
   ]
  },
  {
   "cell_type": "code",
   "execution_count": 3,
   "metadata": {},
   "outputs": [
    {
     "data": {
      "text/plain": [
       "bs4.element.Tag"
      ]
     },
     "execution_count": 3,
     "metadata": {},
     "output_type": "execute_result"
    }
   ],
   "source": [
    "greeting = \"hello\"\n",
    "\n",
    "#Usually, objects have built-in methods that can be _called_ with a dot notation:\n",
    "\n",
    "greeting.capitalize() # => \"Hello\"\n",
    "\n",
    "\n",
    "from bs4 import BeautifulSoup\n",
    "import requests\n",
    "\n",
    "url = \"http://books.toscrape.com/index.html\"\n",
    "response = requests.get(url)\n",
    "html = response.content\n",
    "\n",
    "\n",
    "# BeautifulSoup has its own types:\n",
    "scraped = BeautifulSoup(html, \"html.parser\")\n",
    "type(scraped) # => bs4.BeautifulSoup\n",
    "link = scraped.article.h3.a\n",
    "type(link) # => bs4.element.Tag\n",
    "\n",
    "#`.h1`, `.find()`, `find_all()`, `select()` — are all methods that can be called on various BeautifulSoup objects"
   ]
  },
  {
   "cell_type": "markdown",
   "metadata": {},
   "source": [
    "Lists, loops, Dictionaries"
   ]
  },
  {
   "cell_type": "code",
   "execution_count": 10,
   "metadata": {},
   "outputs": [
    {
     "name": "stdout",
     "output_type": "stream",
     "text": [
      "Ann\n",
      "Bob\n",
      "Charlie\n",
      "Charlie\n",
      "{'War and Peace': 'A famous novel by Leo Tolstoi'}\n",
      "[{'Apple': 1}, {'Coco': 5}]\n"
     ]
    }
   ],
   "source": [
    "numbers = [1, 5, 10, 15] # a list of ints\n",
    "names = [\"Ann\", \"Bob\", \"Charlie\"] # a list of strings\n",
    "\n",
    "numbers = []\n",
    "numbers.append(1)\n",
    "numbers.append(2)\n",
    "# Now the list is [1, 2]\n",
    "\n",
    "names = [\"Ann\", \"Bob\", \"Charlie\"]\n",
    "for name in names:\n",
    " print(name)\n",
    "\n",
    "print(names[2]) # Charlie\n",
    "\n",
    "# Dictionaries are used to store \"key-value\" information. Here, \"War and Peace\" is the key, and the description is the value. \n",
    "# So it works like a real... dictionary!\n",
    "\n",
    "book = {\"War and Peace\": \"A famous novel by Leo Tolstoi\"}\n",
    "print(book)\n",
    "\n",
    "# You can have Lists of Dictionaries:\n",
    "\n",
    "food_prices = []\n",
    "food_prices.append({\"Apple\": 1})\n",
    "food_prices.append({\"Coco\": 5})\n",
    "print(food_prices)"
   ]
  }
 ],
 "metadata": {
  "kernelspec": {
   "display_name": "Python 3",
   "language": "python",
   "name": "python3"
  },
  "language_info": {
   "codemirror_mode": {
    "name": "ipython",
    "version": 3
   },
   "file_extension": ".py",
   "mimetype": "text/x-python",
   "name": "python",
   "nbconvert_exporter": "python",
   "pygments_lexer": "ipython3",
   "version": "3.11.5"
  }
 },
 "nbformat": 4,
 "nbformat_minor": 2
}
